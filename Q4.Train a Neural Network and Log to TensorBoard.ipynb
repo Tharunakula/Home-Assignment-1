{
  "nbformat": 4,
  "nbformat_minor": 0,
  "metadata": {
    "colab": {
      "provenance": [],
      "authorship_tag": "ABX9TyNh+k5VrFduY9Dn+DR/hW+Y",
      "include_colab_link": true
    },
    "kernelspec": {
      "name": "python3",
      "display_name": "Python 3"
    },
    "language_info": {
      "name": "python"
    }
  },
  "cells": [
    {
      "cell_type": "markdown",
      "metadata": {
        "id": "view-in-github",
        "colab_type": "text"
      },
      "source": [
        "<a href=\"https://colab.research.google.com/github/Tharunakula/TensorFlow-Exercises/blob/main/Train%20a%20Neural%20Network%20and%20Log%20to%20TensorBoard.ipynb\" target=\"_parent\"><img src=\"https://colab.research.google.com/assets/colab-badge.svg\" alt=\"Open In Colab\"/></a>"
      ]
    },
    {
      "cell_type": "code",
      "execution_count": 4,
      "metadata": {
        "colab": {
          "base_uri": "https://localhost:8080/"
        },
        "id": "XQ-Ro4qewlRu",
        "outputId": "ecb9b877-2994-4144-f929-fb0182d6b74a"
      },
      "outputs": [
        {
          "output_type": "stream",
          "name": "stdout",
          "text": [
            "Epoch 1/5\n",
            "\u001b[1m1875/1875\u001b[0m \u001b[32m━━━━━━━━━━━━━━━━━━━━\u001b[0m\u001b[37m\u001b[0m \u001b[1m10s\u001b[0m 5ms/step - accuracy: 0.8584 - loss: 0.4810 - val_accuracy: 0.9618 - val_loss: 0.1342\n",
            "Epoch 2/5\n",
            "\u001b[1m1875/1875\u001b[0m \u001b[32m━━━━━━━━━━━━━━━━━━━━\u001b[0m\u001b[37m\u001b[0m \u001b[1m8s\u001b[0m 4ms/step - accuracy: 0.9556 - loss: 0.1486 - val_accuracy: 0.9715 - val_loss: 0.0950\n",
            "Epoch 3/5\n",
            "\u001b[1m1875/1875\u001b[0m \u001b[32m━━━━━━━━━━━━━━━━━━━━\u001b[0m\u001b[37m\u001b[0m \u001b[1m8s\u001b[0m 4ms/step - accuracy: 0.9672 - loss: 0.1103 - val_accuracy: 0.9732 - val_loss: 0.0825\n",
            "Epoch 4/5\n",
            "\u001b[1m1875/1875\u001b[0m \u001b[32m━━━━━━━━━━━━━━━━━━━━\u001b[0m\u001b[37m\u001b[0m \u001b[1m9s\u001b[0m 5ms/step - accuracy: 0.9746 - loss: 0.0835 - val_accuracy: 0.9770 - val_loss: 0.0786\n",
            "Epoch 5/5\n",
            "\u001b[1m1875/1875\u001b[0m \u001b[32m━━━━━━━━━━━━━━━━━━━━\u001b[0m\u001b[37m\u001b[0m \u001b[1m7s\u001b[0m 4ms/step - accuracy: 0.9768 - loss: 0.0773 - val_accuracy: 0.9772 - val_loss: 0.0767\n",
            "To launch TensorBoard, open a terminal in the same directory as your Jupyter Notebook and run:\n",
            "tensorboard --logdir logs/fit/20250207-234626\n",
            "Then, open your web browser and go to the URL provided by TensorBoard (usually http://localhost:6006/).\n",
            "\n",
            "TensorBoard logs are saved in: logs/fit/20250207-234626\n"
          ]
        }
      ],
      "source": [
        "import tensorflow as tf\n",
        "import datetime\n",
        "\n",
        "# 1. Load the MNIST dataset and preprocess it.\n",
        "(x_train, y_train), (x_test, y_test) = tf.keras.datasets.mnist.load_data()\n",
        "\n",
        "# Normalize pixel values to be between 0 and 1\n",
        "x_train, x_test = x_train / 255.0, x_test / 255.0\n",
        "\n",
        "# 2. Train a simple neural network model and enable TensorBoard logging.\n",
        "\n",
        "def create_model():\n",
        "    model = tf.keras.models.Sequential([\n",
        "        tf.keras.layers.Flatten(input_shape=(28, 28)),\n",
        "        tf.keras.layers.Dense(128, activation='relu'),\n",
        "        tf.keras.layers.Dropout(0.2),\n",
        "        tf.keras.layers.Dense(10, activation='softmax')\n",
        "    ])\n",
        "    return model\n",
        "\n",
        "model = create_model()\n",
        "\n",
        "model.compile(optimizer='adam',\n",
        "              loss='sparse_categorical_crossentropy',\n",
        "              metrics=['accuracy'])\n",
        "\n",
        "# Define the TensorBoard callback.\n",
        "log_dir = \"logs/fit/\" + datetime.datetime.now().strftime(\"%Y%m%d-%H%M%S\") # Unique log directory for each run\n",
        "tensorboard_callback = tf.keras.callbacks.TensorBoard(log_dir=log_dir, histogram_freq=1) # histogram_freq adds histograms\n",
        "\n",
        "# Train the model with the TensorBoard callback.\n",
        "model.fit(x_train, y_train, epochs=5, validation_data=(x_test, y_test), callbacks=[tensorboard_callback])\n",
        "\n",
        "# 3. Launch TensorBoard and analyze loss and accuracy trends.\n",
        "\n",
        "# --- Instructions for launching TensorBoard ---\n",
        "print(f\"To launch TensorBoard, open a terminal in the same directory as your Jupyter Notebook and run:\")\n",
        "print(f\"tensorboard --logdir {log_dir}\")\n",
        "print(\"Then, open your web browser and go to the URL provided by TensorBoard (usually http://localhost:6006/).\")\n",
        "\n",
        "\n",
        "# --- (Optional) Display the log directory for easy copy/paste\n",
        "print(f\"\\nTensorBoard logs are saved in: {log_dir}\")"
      ]
    },
    {
      "cell_type": "code",
      "source": [],
      "metadata": {
        "id": "CXiwdcJbyhxx"
      },
      "execution_count": null,
      "outputs": []
    }
  ]
}
